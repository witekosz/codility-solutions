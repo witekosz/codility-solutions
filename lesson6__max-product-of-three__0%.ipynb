{
 "metadata": {
  "language_info": {
   "codemirror_mode": {
    "name": "ipython",
    "version": 3
   },
   "file_extension": ".py",
   "mimetype": "text/x-python",
   "name": "python",
   "nbconvert_exporter": "python",
   "pygments_lexer": "ipython3",
   "version": "3.7.7-final"
  },
  "orig_nbformat": 2,
  "kernelspec": {
   "name": "python_defaultSpec_1597850303896",
   "display_name": "Python 3.7.7 64-bit"
  }
 },
 "nbformat": 4,
 "nbformat_minor": 2,
 "cells": [
  {
   "cell_type": "code",
   "execution_count": 2,
   "metadata": {},
   "outputs": [],
   "source": [
    "from typing import List"
   ]
  },
  {
   "cell_type": "code",
   "execution_count": 30,
   "metadata": {},
   "outputs": [],
   "source": [
    "def solution(a: List[int]):\n",
    "    a.sort()\n",
    "    n = len(a)\n",
    "    products = []\n",
    "    for e in range(n):\n",
    "        index = (e, e + 1, e + 2)\n",
    "        if index[2] < n:\n",
    "            product = (a[index[0]], a[index[1]], a[index[2]])\n",
    "            products.append(sum(product))\n",
    "    return max(products)"
   ]
  },
  {
   "cell_type": "code",
   "execution_count": 31,
   "metadata": {
    "tags": []
   },
   "outputs": [
    {
     "output_type": "stream",
     "name": "stdout",
     "text": "[-4, 1, 8, 13]\n13\n"
    }
   ],
   "source": [
    "print(solution([-3, 1, 2, -2, 5, 6]))"
   ]
  },
  {
   "cell_type": "code",
   "execution_count": 12,
   "metadata": {},
   "outputs": [],
   "source": [
    "assert solution([-3, 1, 2, -2, 5, 6]) == 60\n",
    "# assert solution(??) == ??"
   ]
  },
  {
   "cell_type": "code",
   "execution_count": 13,
   "metadata": {},
   "outputs": [],
   "source": [
    "# remember 0/[] edge cases\n",
    "# assert solution([0]) == 1\n",
    "# assert solution([]) == 0"
   ]
  },
  {
   "cell_type": "code",
   "execution_count": null,
   "metadata": {},
   "outputs": [],
   "source": []
  }
 ]
}