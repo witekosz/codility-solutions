{
 "metadata": {
  "language_info": {
   "codemirror_mode": {
    "name": "ipython",
    "version": 3
   },
   "file_extension": ".py",
   "mimetype": "text/x-python",
   "name": "python",
   "nbconvert_exporter": "python",
   "pygments_lexer": "ipython3",
   "version": "3.7.7-final"
  },
  "orig_nbformat": 2,
  "kernelspec": {
   "name": "python_defaultSpec_1597832381860",
   "display_name": "Python 3.7.7 64-bit"
  }
 },
 "nbformat": 4,
 "nbformat_minor": 2,
 "cells": [
  {
   "cell_type": "code",
   "execution_count": 38,
   "metadata": {},
   "outputs": [],
   "source": [
    "import math"
   ]
  },
  {
   "cell_type": "code",
   "execution_count": 45,
   "metadata": {},
   "outputs": [],
   "source": [
    "def solution(x: int, y: int, d: int) -> int:\n",
    "    distance = y - x\n",
    "    if distance:\n",
    "        return int(math.ceil(distance/d))\n",
    "    else:\n",
    "        return 0\n",
    "        "
   ]
  },
  {
   "cell_type": "code",
   "execution_count": 46,
   "metadata": {
    "tags": []
   },
   "outputs": [
    {
     "output_type": "stream",
     "name": "stdout",
     "text": "3\n"
    }
   ],
   "source": [
    "print(solution(10, 85, 30))"
   ]
  },
  {
   "cell_type": "code",
   "execution_count": 47,
   "metadata": {
    "tags": []
   },
   "outputs": [
    {
     "output_type": "execute_result",
     "data": {
      "text/plain": "3"
     },
     "metadata": {},
     "execution_count": 47
    }
   ],
   "source": [
    "solution(5, 20, 5)"
   ]
  },
  {
   "cell_type": "code",
   "execution_count": 51,
   "metadata": {
    "tags": []
   },
   "outputs": [],
   "source": [
    "assert solution(10, 85, 30) == 3\n",
    "assert solution(0, 90, 30) == 3\n",
    "assert solution(5, 20, 5) == 3"
   ]
  },
  {
   "cell_type": "code",
   "execution_count": 54,
   "metadata": {
    "tags": []
   },
   "outputs": [],
   "source": [
    "# remember 0/[] edge cases\n",
    "assert solution(10, 1000000, 30) == 33333"
   ]
  },
  {
   "cell_type": "code",
   "execution_count": 55,
   "metadata": {
    "tags": []
   },
   "outputs": [
    {
     "output_type": "stream",
     "name": "stdout",
     "text": "0.004034474004583899\n0.004065793000336271\n0.004232649000186939\n0.004099050995137077\n0.003676211003039498\n"
    }
   ],
   "source": [
    "import timeit\n",
    "\n",
    "print(timeit.timeit(\"solution(10, 100, 30)\", \"from __main__ import solution\", number=10000))\n",
    "print(timeit.timeit(\"solution(10, 1000, 30)\", \"from __main__ import solution\", number=10000))\n",
    "print(timeit.timeit(\"solution(10, 10000, 30)\", \"from __main__ import solution\", number=10000))\n",
    "print(timeit.timeit(\"solution(10, 100000, 30)\", \"from __main__ import solution\", number=10000))\n",
    "print(timeit.timeit(\"solution(10, 1000000, 30)\", \"from __main__ import solution\", number=10000))"
   ]
  }
 ]
}