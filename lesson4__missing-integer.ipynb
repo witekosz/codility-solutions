{
 "metadata": {
  "language_info": {
   "codemirror_mode": {
    "name": "ipython",
    "version": 3
   },
   "file_extension": ".py",
   "mimetype": "text/x-python",
   "name": "python",
   "nbconvert_exporter": "python",
   "pygments_lexer": "ipython3",
   "version": "3.7.7-final"
  },
  "orig_nbformat": 2,
  "kernelspec": {
   "name": "python_defaultSpec_1597843497629",
   "display_name": "Python 3.7.7 64-bit"
  }
 },
 "nbformat": 4,
 "nbformat_minor": 2,
 "cells": [
  {
   "cell_type": "code",
   "execution_count": 40,
   "metadata": {},
   "outputs": [],
   "source": [
    "from typing import List\n",
    "from collections import deque"
   ]
  },
  {
   "cell_type": "code",
   "execution_count": 100,
   "metadata": {},
   "outputs": [],
   "source": [
    "def solution(a: List[int]) -> int:\n",
    "    if a == []:\n",
    "        return 1\n",
    "    if max(a) <= 0:\n",
    "        return 1\n",
    "    if min(a) > 1:\n",
    "        return 1\n",
    "    else:\n",
    "        queue = deque(sorted(filter(lambda x: x > 0, set(a))))\n",
    "        if not queue or queue[0] != 1:\n",
    "            return 1\n",
    "        while queue:\n",
    "            next_value = queue.popleft() + 1\n",
    "            if not queue:\n",
    "                return next_value\n",
    "            if next_value != queue[0]:\n",
    "                return next_value"
   ]
  },
  {
   "cell_type": "code",
   "execution_count": 101,
   "metadata": {
    "tags": []
   },
   "outputs": [
    {
     "output_type": "stream",
     "name": "stdout",
     "text": "5\n"
    }
   ],
   "source": [
    "print(solution([1, 3, 6, 4, 1, 2]))"
   ]
  },
  {
   "cell_type": "code",
   "execution_count": 103,
   "metadata": {
    "tags": []
   },
   "outputs": [],
   "source": [
    "assert solution([1, 3, 6, 4, 1, 2]) == 5\n",
    "assert solution([1, 2, 3]) == 4\n",
    "assert solution([-1, -3]) == 1"
   ]
  },
  {
   "cell_type": "code",
   "execution_count": 105,
   "metadata": {
    "tags": []
   },
   "outputs": [],
   "source": [
    "# remember 0/[] edge cases\n",
    "assert solution([]) == 1\n",
    "assert solution([1]) == 2\n",
    "assert solution([-1, 3, 2]) == 1\n",
    "assert solution([0]) == 1"
   ]
  }
 ]
}