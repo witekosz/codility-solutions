{
 "metadata": {
  "language_info": {
   "codemirror_mode": {
    "name": "ipython",
    "version": 3
   },
   "file_extension": ".py",
   "mimetype": "text/x-python",
   "name": "python",
   "nbconvert_exporter": "python",
   "pygments_lexer": "ipython3",
   "version": "3.7.7-final"
  },
  "orig_nbformat": 2,
  "kernelspec": {
   "name": "python_defaultSpec_1597833917607",
   "display_name": "Python 3.7.7 64-bit"
  }
 },
 "nbformat": 4,
 "nbformat_minor": 2,
 "cells": [
  {
   "cell_type": "code",
   "execution_count": 2,
   "metadata": {},
   "outputs": [],
   "source": [
    "from typing import List"
   ]
  },
  {
   "cell_type": "code",
   "execution_count": 19,
   "metadata": {},
   "outputs": [],
   "source": [
    "def solution(a: List[int]) -> int:\n",
    "    diff_set = set(range(1, len(a) + 2)) - set(a)\n",
    "    return diff_set.pop()\n",
    "        "
   ]
  },
  {
   "cell_type": "code",
   "execution_count": 20,
   "metadata": {
    "tags": []
   },
   "outputs": [
    {
     "output_type": "stream",
     "name": "stdout",
     "text": "4\n"
    }
   ],
   "source": [
    "print(solution([2, 3, 1, 5]))"
   ]
  },
  {
   "cell_type": "code",
   "execution_count": 21,
   "metadata": {
    "tags": []
   },
   "outputs": [],
   "source": [
    "assert solution([2, 3, 1, 5]) == 4"
   ]
  },
  {
   "cell_type": "code",
   "execution_count": 35,
   "metadata": {
    "tags": []
   },
   "outputs": [],
   "source": [
    "# remember 0/[] edge cases\n",
    "list_1 = [*range(1, 10000)]\n",
    "list_1.remove(9999)\n",
    "assert solution(list_1) == 9999"
   ]
  },
  {
   "cell_type": "code",
   "execution_count": 33,
   "metadata": {
    "tags": []
   },
   "outputs": [
    {
     "output_type": "stream",
     "name": "stdout",
     "text": "0.012261927004146855\n8.811734857001284\n"
    }
   ],
   "source": [
    "import timeit\n",
    "\n",
    "print(timeit.timeit(\"solution([2, 3, 1, 5])\", \"from __main__ import solution\", number=10000))\n",
    "print(timeit.timeit(\"\"\"\n",
    "list_1 = [*range(1, 10000)]\n",
    "list_1.remove(9999)\n",
    "solution(list_1)\n",
    "\"\"\", \"from __main__ import solution\", number=10000))"
   ]
  }
 ]
}