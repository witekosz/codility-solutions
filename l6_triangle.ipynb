{
 "metadata": {
  "language_info": {
   "codemirror_mode": {
    "name": "ipython",
    "version": 3
   },
   "file_extension": ".py",
   "mimetype": "text/x-python",
   "name": "python",
   "nbconvert_exporter": "python",
   "pygments_lexer": "ipython3",
   "version": "3.7.7-final"
  },
  "orig_nbformat": 2,
  "kernelspec": {
   "name": "python_defaultSpec_1597852441052",
   "display_name": "Python 3.7.7 64-bit"
  }
 },
 "nbformat": 4,
 "nbformat_minor": 2,
 "cells": [
  {
   "cell_type": "code",
   "execution_count": 2,
   "metadata": {},
   "outputs": [],
   "source": [
    "from typing import List"
   ]
  },
  {
   "cell_type": "code",
   "execution_count": 20,
   "metadata": {},
   "outputs": [],
   "source": [
    "def solution(a: List[int]) -> int:\n",
    "    if len(a) < 3:\n",
    "        return 0\n",
    "    for e in range(len(a) - 2):\n",
    "        p = a[e]\n",
    "        q = a[e + 1]\n",
    "        r = a[e + 2]\n",
    "        if p + q > r and q + r > p and r + p > q:\n",
    "            return 1\n",
    "    return 0"
   ]
  },
  {
   "cell_type": "code",
   "execution_count": 21,
   "metadata": {
    "tags": []
   },
   "outputs": [
    {
     "output_type": "stream",
     "name": "stdout",
     "text": "0\n10 2 5\np + q > r True\nq + r > p False\nr + p > q True\n1\n2 5 1\np + q > r True\nq + r > p True\nr + p > q False\n2\n5 1 8\np + q > r False\nq + r > p True\nr + p > q True\n3\n1 8 20\np + q > r False\nq + r > p True\nr + p > q True\n0\n"
    }
   ],
   "source": [
    "print(solution([10, 2, 5, 1, 8, 20]))"
   ]
  },
  {
   "cell_type": "code",
   "execution_count": 1,
   "metadata": {},
   "outputs": [],
   "source": [
    "# assert solution(??) == ??\n",
    "# assert solution(??) == ??"
   ]
  },
  {
   "cell_type": "code",
   "execution_count": 2,
   "metadata": {},
   "outputs": [],
   "source": [
    "# remember 0/[] edge cases\n",
    "# assert solution(??) == ??"
   ]
  }
 ]
}