{
 "metadata": {
  "language_info": {
   "codemirror_mode": {
    "name": "ipython",
    "version": 3
   },
   "file_extension": ".py",
   "mimetype": "text/x-python",
   "name": "python",
   "nbconvert_exporter": "python",
   "pygments_lexer": "ipython3",
   "version": "3.7.7-final"
  },
  "orig_nbformat": 2,
  "kernelspec": {
   "name": "python_defaultSpec_1597829998720",
   "display_name": "Python 3.7.7 64-bit"
  }
 },
 "nbformat": 4,
 "nbformat_minor": 2,
 "cells": [
  {
   "cell_type": "code",
   "execution_count": 73,
   "metadata": {},
   "outputs": [],
   "source": [
    "def solution(x: int, y: int, d: int) -> int:\n",
    "    if x == y:\n",
    "        return 0\n",
    "    else:\n",
    "        count = 0\n",
    "        condition = True\n",
    "        while condition:\n",
    "            count += 1\n",
    "            x += d\n",
    "            condition = x < y\n",
    "        return count"
   ]
  },
  {
   "cell_type": "code",
   "execution_count": 74,
   "metadata": {
    "tags": []
   },
   "outputs": [
    {
     "output_type": "stream",
     "name": "stdout",
     "text": "3\n"
    }
   ],
   "source": [
    "print(solution(10, 85, 30))"
   ]
  },
  {
   "cell_type": "code",
   "execution_count": 76,
   "metadata": {
    "tags": []
   },
   "outputs": [],
   "source": [
    "assert solution(10, 85, 30) == 3\n",
    "assert solution(0, 90, 30) == 3\n",
    "assert solution(10, 10, 30) == 0"
   ]
  },
  {
   "cell_type": "code",
   "execution_count": 24,
   "metadata": {},
   "outputs": [],
   "source": [
    "# remember 0/[] edge cases\n",
    "assert solution(10, 1000000, 30) == 33334"
   ]
  },
  {
   "cell_type": "code",
   "execution_count": 108,
   "metadata": {
    "tags": []
   },
   "outputs": [
    {
     "output_type": "stream",
     "name": "stdout",
     "text": "0.0035789870016742498\n0.024222593994636554\n0.21924074699927587\n2.2481401760014705\n23.348751640995033\n"
    }
   ],
   "source": [
    "import timeit\n",
    "\n",
    "print(timeit.timeit(\"solution(10, 100, 30)\", \"from __main__ import solution\", number=10000))\n",
    "print(timeit.timeit(\"solution(10, 1000, 30)\", \"from __main__ import solution\", number=10000))\n",
    "print(timeit.timeit(\"solution(10, 10000, 30)\", \"from __main__ import solution\", number=10000))\n",
    "print(timeit.timeit(\"solution(10, 100000, 30)\", \"from __main__ import solution\", number=10000))\n",
    "print(timeit.timeit(\"solution(10, 1000000, 30)\", \"from __main__ import solution\", number=10000))"
   ]
  },
  {
   "cell_type": "code",
   "execution_count": null,
   "metadata": {},
   "outputs": [],
   "source": []
  }
 ]
}